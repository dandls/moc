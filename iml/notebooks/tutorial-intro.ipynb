{
 "cells": [
  {
   "cell_type": "markdown",
   "metadata": {},
   "source": [
    "# iml Tutorial: Interpreting black box machine learning models"
   ]
  },
  {
   "cell_type": "markdown",
   "metadata": {},
   "source": [
    "In this tutorial you will learn interactively how to make black box machine learning models interpretable using the iml package"
   ]
  },
  {
   "cell_type": "markdown",
   "metadata": {},
   "source": [
    "Machine learning models usually perform really well for predictions, but are not interpretable.\n",
    "The iml package provides tools for analysing any black box machine learning model:\n",
    "\n",
    "* Feature importance: Which were the most important features?\n",
    "\n",
    "* Feature effects: How does a feature influence the prediction? (Partial dependence plots and individual conditional expectation curves)\n",
    "\n",
    "* Explanations for single predictions: How did the feature values of a single data point affect its prediction?  (LIME and Shapley value)\n",
    "\n",
    "* Surrogate trees: Can we approximate the underlying black box model with a short decision tree?\n",
    "\n",
    "* The iml package works for any classification and regression machine learning model: random forests, linear models, neural networks, xgboost, etc.\n",
    "\n",
    "This document shows you how to use the iml package to analyse machine learning models. \n",
    "\n",
    "If you want to learn more about the technical details of all the methods, read chapters from: https://christophm.github.io/interpretable-ml-book/agnostic.html\n"
   ]
  },
  {
   "cell_type": "code",
   "execution_count": 1,
   "metadata": {},
   "outputs": [
    {
     "name": "stderr",
     "output_type": "stream",
     "text": [
      "Loading required package: ParamHelpers\n"
     ]
    }
   ],
   "source": [
    "# Loading the packages\n",
    "library(iml)\n",
    "# We use the mlr package for training the machine learning models\n",
    "library(mlr)"
   ]
  },
  {
   "cell_type": "code",
   "execution_count": 2,
   "metadata": {
    "collapsed": true
   },
   "outputs": [],
   "source": [
    "set.seed(1014)"
   ]
  },
  {
   "cell_type": "markdown",
   "metadata": {},
   "source": [
    "We'll use the `MASS::Boston` dataset to demonstrate the abilities of the iml package. This dataset contains median house values from Boston neighbourhoods. "
   ]
  },
  {
   "cell_type": "code",
   "execution_count": 3,
   "metadata": {},
   "outputs": [
    {
     "data": {
      "text/html": [
       "<table>\n",
       "<caption>A data.frame: 6 × 14</caption>\n",
       "<thead>\n",
       "\t<tr><th scope=col>crim</th><th scope=col>zn</th><th scope=col>indus</th><th scope=col>chas</th><th scope=col>nox</th><th scope=col>rm</th><th scope=col>age</th><th scope=col>dis</th><th scope=col>rad</th><th scope=col>tax</th><th scope=col>ptratio</th><th scope=col>black</th><th scope=col>lstat</th><th scope=col>medv</th></tr>\n",
       "\t<tr><th scope=col>&lt;dbl&gt;</th><th scope=col>&lt;dbl&gt;</th><th scope=col>&lt;dbl&gt;</th><th scope=col>&lt;int&gt;</th><th scope=col>&lt;dbl&gt;</th><th scope=col>&lt;dbl&gt;</th><th scope=col>&lt;dbl&gt;</th><th scope=col>&lt;dbl&gt;</th><th scope=col>&lt;int&gt;</th><th scope=col>&lt;dbl&gt;</th><th scope=col>&lt;dbl&gt;</th><th scope=col>&lt;dbl&gt;</th><th scope=col>&lt;dbl&gt;</th><th scope=col>&lt;dbl&gt;</th></tr>\n",
       "</thead>\n",
       "<tbody>\n",
       "\t<tr><td>0.00632</td><td>18</td><td>2.31</td><td>0</td><td>0.538</td><td>6.575</td><td>65.2</td><td>4.0900</td><td>1</td><td>296</td><td>15.3</td><td>396.90</td><td>4.98</td><td>24.0</td></tr>\n",
       "\t<tr><td>0.02731</td><td> 0</td><td>7.07</td><td>0</td><td>0.469</td><td>6.421</td><td>78.9</td><td>4.9671</td><td>2</td><td>242</td><td>17.8</td><td>396.90</td><td>9.14</td><td>21.6</td></tr>\n",
       "\t<tr><td>0.02729</td><td> 0</td><td>7.07</td><td>0</td><td>0.469</td><td>7.185</td><td>61.1</td><td>4.9671</td><td>2</td><td>242</td><td>17.8</td><td>392.83</td><td>4.03</td><td>34.7</td></tr>\n",
       "\t<tr><td>0.03237</td><td> 0</td><td>2.18</td><td>0</td><td>0.458</td><td>6.998</td><td>45.8</td><td>6.0622</td><td>3</td><td>222</td><td>18.7</td><td>394.63</td><td>2.94</td><td>33.4</td></tr>\n",
       "\t<tr><td>0.06905</td><td> 0</td><td>2.18</td><td>0</td><td>0.458</td><td>7.147</td><td>54.2</td><td>6.0622</td><td>3</td><td>222</td><td>18.7</td><td>396.90</td><td>5.33</td><td>36.2</td></tr>\n",
       "\t<tr><td>0.02985</td><td> 0</td><td>2.18</td><td>0</td><td>0.458</td><td>6.430</td><td>58.7</td><td>6.0622</td><td>3</td><td>222</td><td>18.7</td><td>394.12</td><td>5.21</td><td>28.7</td></tr>\n",
       "</tbody>\n",
       "</table>\n"
      ],
      "text/latex": [
       "A data.frame: 6 × 14\n",
       "\\begin{tabular}{r|llllllllllllll}\n",
       " crim & zn & indus & chas & nox & rm & age & dis & rad & tax & ptratio & black & lstat & medv\\\\\n",
       " <dbl> & <dbl> & <dbl> & <int> & <dbl> & <dbl> & <dbl> & <dbl> & <int> & <dbl> & <dbl> & <dbl> & <dbl> & <dbl>\\\\\n",
       "\\hline\n",
       "\t 0.00632 & 18 & 2.31 & 0 & 0.538 & 6.575 & 65.2 & 4.0900 & 1 & 296 & 15.3 & 396.90 & 4.98 & 24.0\\\\\n",
       "\t 0.02731 &  0 & 7.07 & 0 & 0.469 & 6.421 & 78.9 & 4.9671 & 2 & 242 & 17.8 & 396.90 & 9.14 & 21.6\\\\\n",
       "\t 0.02729 &  0 & 7.07 & 0 & 0.469 & 7.185 & 61.1 & 4.9671 & 2 & 242 & 17.8 & 392.83 & 4.03 & 34.7\\\\\n",
       "\t 0.03237 &  0 & 2.18 & 0 & 0.458 & 6.998 & 45.8 & 6.0622 & 3 & 222 & 18.7 & 394.63 & 2.94 & 33.4\\\\\n",
       "\t 0.06905 &  0 & 2.18 & 0 & 0.458 & 7.147 & 54.2 & 6.0622 & 3 & 222 & 18.7 & 396.90 & 5.33 & 36.2\\\\\n",
       "\t 0.02985 &  0 & 2.18 & 0 & 0.458 & 6.430 & 58.7 & 6.0622 & 3 & 222 & 18.7 & 394.12 & 5.21 & 28.7\\\\\n",
       "\\end{tabular}\n"
      ],
      "text/markdown": [
       "\n",
       "A data.frame: 6 × 14\n",
       "\n",
       "| crim &lt;dbl&gt; | zn &lt;dbl&gt; | indus &lt;dbl&gt; | chas &lt;int&gt; | nox &lt;dbl&gt; | rm &lt;dbl&gt; | age &lt;dbl&gt; | dis &lt;dbl&gt; | rad &lt;int&gt; | tax &lt;dbl&gt; | ptratio &lt;dbl&gt; | black &lt;dbl&gt; | lstat &lt;dbl&gt; | medv &lt;dbl&gt; |\n",
       "|---|---|---|---|---|---|---|---|---|---|---|---|---|---|\n",
       "| 0.00632 | 18 | 2.31 | 0 | 0.538 | 6.575 | 65.2 | 4.0900 | 1 | 296 | 15.3 | 396.90 | 4.98 | 24.0 |\n",
       "| 0.02731 |  0 | 7.07 | 0 | 0.469 | 6.421 | 78.9 | 4.9671 | 2 | 242 | 17.8 | 396.90 | 9.14 | 21.6 |\n",
       "| 0.02729 |  0 | 7.07 | 0 | 0.469 | 7.185 | 61.1 | 4.9671 | 2 | 242 | 17.8 | 392.83 | 4.03 | 34.7 |\n",
       "| 0.03237 |  0 | 2.18 | 0 | 0.458 | 6.998 | 45.8 | 6.0622 | 3 | 222 | 18.7 | 394.63 | 2.94 | 33.4 |\n",
       "| 0.06905 |  0 | 2.18 | 0 | 0.458 | 7.147 | 54.2 | 6.0622 | 3 | 222 | 18.7 | 396.90 | 5.33 | 36.2 |\n",
       "| 0.02985 |  0 | 2.18 | 0 | 0.458 | 6.430 | 58.7 | 6.0622 | 3 | 222 | 18.7 | 394.12 | 5.21 | 28.7 |\n",
       "\n"
      ],
      "text/plain": [
       "  crim    zn indus chas nox   rm    age  dis    rad tax ptratio black  lstat\n",
       "1 0.00632 18 2.31  0    0.538 6.575 65.2 4.0900 1   296 15.3    396.90 4.98 \n",
       "2 0.02731  0 7.07  0    0.469 6.421 78.9 4.9671 2   242 17.8    396.90 9.14 \n",
       "3 0.02729  0 7.07  0    0.469 7.185 61.1 4.9671 2   242 17.8    392.83 4.03 \n",
       "4 0.03237  0 2.18  0    0.458 6.998 45.8 6.0622 3   222 18.7    394.63 2.94 \n",
       "5 0.06905  0 2.18  0    0.458 7.147 54.2 6.0622 3   222 18.7    396.90 5.33 \n",
       "6 0.02985  0 2.18  0    0.458 6.430 58.7 6.0622 3   222 18.7    394.12 5.21 \n",
       "  medv\n",
       "1 24.0\n",
       "2 21.6\n",
       "3 34.7\n",
       "4 33.4\n",
       "5 36.2\n",
       "6 28.7"
      ]
     },
     "metadata": {},
     "output_type": "display_data"
    }
   ],
   "source": [
    "data(\"Boston\", package  = \"MASS\")\n",
    "head(Boston)"
   ]
  },
  {
   "cell_type": "markdown",
   "metadata": {},
   "source": [
    "First we train a randomForest to predict the Boston median housing value:\n"
   ]
  },
  {
   "cell_type": "code",
   "execution_count": 4,
   "metadata": {
    "collapsed": true
   },
   "outputs": [],
   "source": [
    "lrn = makeLearner(\"regr.randomForest\", ntree = 50)\n",
    "task = makeRegrTask(data = Boston, target = \"medv\")\n",
    "rf = train(learner = lrn, task = task)"
   ]
  },
  {
   "cell_type": "markdown",
   "metadata": {},
   "source": [
    "We create a `Predictor` object, that holds the model and the data. The iml package uses R6 classes: New objects can be created by calling `Predictor$new()`."
   ]
  },
  {
   "cell_type": "code",
   "execution_count": 5,
   "metadata": {
    "collapsed": true
   },
   "outputs": [],
   "source": [
    "X = Boston[which(names(Boston) != \"medv\")]\n",
    "predictor = Predictor$new(rf, data = X, y = Boston$medv)"
   ]
  },
  {
   "cell_type": "markdown",
   "metadata": {},
   "source": [
    "## Feature importance\n",
    "\n",
    "We can measure how important each feature was for the predictions with `FeatureImp`. The feature importance measure works by shuffling each feature and measuring how much the performance drops. For this regression task we choose to measure the loss in performance with the mean absolute error ('mae'), another choice would be the  mean squared error ('mse').\n",
    "\n",
    "\n",
    "Once we create a new object of `FeatureImp`, the importance is automatically computed. \n",
    "We can call the `plot()` function of the object or look at the results in a data.frame."
   ]
  },
  {
   "cell_type": "code",
   "execution_count": 6,
   "metadata": {},
   "outputs": [
    {
     "data": {
      "text/html": [
       "<table>\n",
       "<caption>A data.frame: 13 × 5</caption>\n",
       "<thead>\n",
       "\t<tr><th scope=col>feature</th><th scope=col>importance.05</th><th scope=col>importance</th><th scope=col>importance.95</th><th scope=col>permutation.error</th></tr>\n",
       "\t<tr><th scope=col>&lt;chr&gt;</th><th scope=col>&lt;dbl&gt;</th><th scope=col>&lt;dbl&gt;</th><th scope=col>&lt;dbl&gt;</th><th scope=col>&lt;dbl&gt;</th></tr>\n",
       "</thead>\n",
       "<tbody>\n",
       "\t<tr><td>lstat  </td><td>4.207455</td><td>4.238661</td><td>4.586589</td><td>4.197795</td></tr>\n",
       "\t<tr><td>rm     </td><td>3.562061</td><td>3.615389</td><td>3.702106</td><td>3.580533</td></tr>\n",
       "\t<tr><td>nox    </td><td>1.752995</td><td>1.781122</td><td>1.828999</td><td>1.763950</td></tr>\n",
       "\t<tr><td>crim   </td><td>1.701864</td><td>1.719946</td><td>1.760524</td><td>1.703364</td></tr>\n",
       "\t<tr><td>dis    </td><td>1.611596</td><td>1.650042</td><td>1.689079</td><td>1.634134</td></tr>\n",
       "\t<tr><td>ptratio</td><td>1.565877</td><td>1.589244</td><td>1.627239</td><td>1.573922</td></tr>\n",
       "\t<tr><td>indus  </td><td>1.419416</td><td>1.446449</td><td>1.463234</td><td>1.432504</td></tr>\n",
       "\t<tr><td>tax    </td><td>1.423849</td><td>1.436202</td><td>1.455234</td><td>1.422355</td></tr>\n",
       "\t<tr><td>age    </td><td>1.355091</td><td>1.376547</td><td>1.406566</td><td>1.363276</td></tr>\n",
       "\t<tr><td>black  </td><td>1.223484</td><td>1.246069</td><td>1.255467</td><td>1.234055</td></tr>\n",
       "\t<tr><td>rad    </td><td>1.131656</td><td>1.136595</td><td>1.158425</td><td>1.125637</td></tr>\n",
       "\t<tr><td>zn     </td><td>1.048380</td><td>1.050190</td><td>1.053281</td><td>1.040065</td></tr>\n",
       "\t<tr><td>chas   </td><td>1.015194</td><td>1.018305</td><td>1.019657</td><td>1.008488</td></tr>\n",
       "</tbody>\n",
       "</table>\n"
      ],
      "text/latex": [
       "A data.frame: 13 × 5\n",
       "\\begin{tabular}{r|lllll}\n",
       " feature & importance.05 & importance & importance.95 & permutation.error\\\\\n",
       " <chr> & <dbl> & <dbl> & <dbl> & <dbl>\\\\\n",
       "\\hline\n",
       "\t lstat   & 4.207455 & 4.238661 & 4.586589 & 4.197795\\\\\n",
       "\t rm      & 3.562061 & 3.615389 & 3.702106 & 3.580533\\\\\n",
       "\t nox     & 1.752995 & 1.781122 & 1.828999 & 1.763950\\\\\n",
       "\t crim    & 1.701864 & 1.719946 & 1.760524 & 1.703364\\\\\n",
       "\t dis     & 1.611596 & 1.650042 & 1.689079 & 1.634134\\\\\n",
       "\t ptratio & 1.565877 & 1.589244 & 1.627239 & 1.573922\\\\\n",
       "\t indus   & 1.419416 & 1.446449 & 1.463234 & 1.432504\\\\\n",
       "\t tax     & 1.423849 & 1.436202 & 1.455234 & 1.422355\\\\\n",
       "\t age     & 1.355091 & 1.376547 & 1.406566 & 1.363276\\\\\n",
       "\t black   & 1.223484 & 1.246069 & 1.255467 & 1.234055\\\\\n",
       "\t rad     & 1.131656 & 1.136595 & 1.158425 & 1.125637\\\\\n",
       "\t zn      & 1.048380 & 1.050190 & 1.053281 & 1.040065\\\\\n",
       "\t chas    & 1.015194 & 1.018305 & 1.019657 & 1.008488\\\\\n",
       "\\end{tabular}\n"
      ],
      "text/markdown": [
       "\n",
       "A data.frame: 13 × 5\n",
       "\n",
       "| feature &lt;chr&gt; | importance.05 &lt;dbl&gt; | importance &lt;dbl&gt; | importance.95 &lt;dbl&gt; | permutation.error &lt;dbl&gt; |\n",
       "|---|---|---|---|---|\n",
       "| lstat   | 4.207455 | 4.238661 | 4.586589 | 4.197795 |\n",
       "| rm      | 3.562061 | 3.615389 | 3.702106 | 3.580533 |\n",
       "| nox     | 1.752995 | 1.781122 | 1.828999 | 1.763950 |\n",
       "| crim    | 1.701864 | 1.719946 | 1.760524 | 1.703364 |\n",
       "| dis     | 1.611596 | 1.650042 | 1.689079 | 1.634134 |\n",
       "| ptratio | 1.565877 | 1.589244 | 1.627239 | 1.573922 |\n",
       "| indus   | 1.419416 | 1.446449 | 1.463234 | 1.432504 |\n",
       "| tax     | 1.423849 | 1.436202 | 1.455234 | 1.422355 |\n",
       "| age     | 1.355091 | 1.376547 | 1.406566 | 1.363276 |\n",
       "| black   | 1.223484 | 1.246069 | 1.255467 | 1.234055 |\n",
       "| rad     | 1.131656 | 1.136595 | 1.158425 | 1.125637 |\n",
       "| zn      | 1.048380 | 1.050190 | 1.053281 | 1.040065 |\n",
       "| chas    | 1.015194 | 1.018305 | 1.019657 | 1.008488 |\n",
       "\n"
      ],
      "text/plain": [
       "   feature importance.05 importance importance.95 permutation.error\n",
       "1  lstat   4.207455      4.238661   4.586589      4.197795         \n",
       "2  rm      3.562061      3.615389   3.702106      3.580533         \n",
       "3  nox     1.752995      1.781122   1.828999      1.763950         \n",
       "4  crim    1.701864      1.719946   1.760524      1.703364         \n",
       "5  dis     1.611596      1.650042   1.689079      1.634134         \n",
       "6  ptratio 1.565877      1.589244   1.627239      1.573922         \n",
       "7  indus   1.419416      1.446449   1.463234      1.432504         \n",
       "8  tax     1.423849      1.436202   1.455234      1.422355         \n",
       "9  age     1.355091      1.376547   1.406566      1.363276         \n",
       "10 black   1.223484      1.246069   1.255467      1.234055         \n",
       "11 rad     1.131656      1.136595   1.158425      1.125637         \n",
       "12 zn      1.048380      1.050190   1.053281      1.040065         \n",
       "13 chas    1.015194      1.018305   1.019657      1.008488         "
      ]
     },
     "metadata": {},
     "output_type": "display_data"
    },
    {
     "data": {
      "image/png": "[encoded data removed]",
      "text/plain": [
       "plot without title"
      ]
     },
     "metadata": {},
     "output_type": "display_data"
    }
   ],
   "source": [
    "imp = FeatureImp$new(predictor, loss = \"mae\")\n",
    "plot(imp)\n",
    "imp$results"
   ]
  },
  {
   "cell_type": "markdown",
   "metadata": {},
   "source": [
    "## Partial dependence\n",
    "\n",
    "Besides knowing which features were important, we are interested in how the features influence the predicted outcome. The `Partial` class implements partial dependence plots and individual conditional expectation curves. Each individual line represents the predictions (y-axis) for one data point when we change one of the features (e.g. 'lstat' on the x-axis). The highlighted line is the point-wise average of the individual lines and equals the partial dependence plot. The marks on the x-axis indicates the distribution of the 'lstat' feature, showing how relevant a region is for interpretation (little or no points mean that we should not over-interpret this region).\n"
   ]
  },
  {
   "cell_type": "code",
   "execution_count": 8,
   "metadata": {},
   "outputs": [
    {
     "data": {
      "image/png": "[encoded data removed]",
      "text/plain": [
       "plot without title"
      ]
     },
     "metadata": {},
     "output_type": "display_data"
    }
   ],
   "source": [
    "pdp.obj = FeatureEffect$new(predictor, feature = \"lstat\")\n",
    "pdp.obj$plot()"
   ]
  },
  {
   "cell_type": "markdown",
   "metadata": {},
   "source": [
    "If we want to compute the partial dependence curves on another feature, we can simply reset the feature:"
   ]
  },
  {
   "cell_type": "code",
   "execution_count": null,
   "metadata": {
    "collapsed": true
   },
   "outputs": [],
   "source": [
    "pdp.obj$set.feature(\"rm\")\n",
    "pdp.obj$plot()"
   ]
  },
  {
   "cell_type": "markdown",
   "metadata": {},
   "source": [
    "We can center the curves at a feature value of our choice, which makes it easier to see the trend of the curves:\n"
   ]
  },
  {
   "cell_type": "code",
   "execution_count": null,
   "metadata": {
    "collapsed": true
   },
   "outputs": [],
   "source": [
    "pdp.obj$center(min(Boston$rm))\n",
    "pdp.obj$plot()"
   ]
  },
  {
   "cell_type": "markdown",
   "metadata": {},
   "source": [
    "# Feature interactions\n",
    "We can also measure how strongly features interact with each other.\n",
    "The interaction measure regards how much of the variance of $f(x)$ is explained by the interaction.\n",
    "The measure is between 0 (no interaction) and 1 (= 100% of variance of $f(x)$ due to interactions).\n",
    "For each feature, we measure how much they interact with any other feature:"
   ]
  },
  {
   "cell_type": "code",
   "execution_count": null,
   "metadata": {
    "collapsed": true
   },
   "outputs": [],
   "source": [
    "interact = Interaction$new(predictor)\n",
    "plot(interact)"
   ]
  },
  {
   "cell_type": "markdown",
   "metadata": {},
   "source": [
    "We can also specify a feature and measure all it's 2-way interactions with all other features:\n"
   ]
  },
  {
   "cell_type": "code",
   "execution_count": null,
   "metadata": {
    "collapsed": true
   },
   "outputs": [],
   "source": [
    "interact = Interaction$new(predictor, feature = \"crim\")\n",
    "plot(interact)"
   ]
  },
  {
   "cell_type": "markdown",
   "metadata": {},
   "source": [
    "## Surrogate model\n",
    "Another way to make the models more interpretable is to replace the black box with a simpler model - a decision tree. We take the predictions of the black box model (in our case the random forest) and train a decision tree on the original features and the predicted outcome. \n",
    "The plot shows the terminal nodes of the fitted tree.\n",
    "The maxdepth parameter controls how deep the tree can grow and therefore how interpretable it is.\n"
   ]
  },
  {
   "cell_type": "code",
   "execution_count": null,
   "metadata": {
    "collapsed": true
   },
   "outputs": [],
   "source": [
    "tree = TreeSurrogate$new(predictor, maxdepth = 2)\n",
    "plot(tree)"
   ]
  },
  {
   "cell_type": "markdown",
   "metadata": {},
   "source": [
    "We can use the tree to make predictions:\n"
   ]
  },
  {
   "cell_type": "code",
   "execution_count": null,
   "metadata": {
    "collapsed": true
   },
   "outputs": [],
   "source": [
    "head(tree$predict(Boston))"
   ]
  },
  {
   "cell_type": "markdown",
   "metadata": {},
   "source": [
    "## Explain single predictions with a local model\n",
    "Global surrogate model can improve the understanding of the global model behaviour. \n",
    "We can also fit a model locally to understand an individual prediction better. The local model fitted by `LocalModel` is a linear regression model and the data points are weighted by how close they are to the data point for wich we want to explain the prediction.\n"
   ]
  },
  {
   "cell_type": "code",
   "execution_count": null,
   "metadata": {
    "collapsed": true
   },
   "outputs": [],
   "source": [
    "lime.explain = LocalModel$new(predictor, x.interest = X[1,])\n",
    "lime.explain$results\n",
    "plot(lime.explain)"
   ]
  },
  {
   "cell_type": "code",
   "execution_count": null,
   "metadata": {
    "collapsed": true
   },
   "outputs": [],
   "source": [
    "lime.explain$explain(X[2,])\n",
    "plot(lime.explain)"
   ]
  },
  {
   "cell_type": "markdown",
   "metadata": {},
   "source": [
    "\n",
    "## Explain single predictions with game theory\n",
    "An alternative for explaining individual predictions is a method from coalitional game theory named Shapley value.\n",
    "Assume that for one data point, the feature values play a game together, in which they get the prediction as a payout. The Shapley value tells us how to fairly distribute the payout among the feature values.\n"
   ]
  },
  {
   "cell_type": "code",
   "execution_count": null,
   "metadata": {
    "collapsed": true
   },
   "outputs": [],
   "source": [
    "shapley = Shapley$new(predictor, x.interest = X[1,])\n",
    "shapley$plot()"
   ]
  },
  {
   "cell_type": "markdown",
   "metadata": {},
   "source": [
    "Re-use the object to explain other data points:\n"
   ]
  },
  {
   "cell_type": "code",
   "execution_count": null,
   "metadata": {
    "collapsed": true
   },
   "outputs": [],
   "source": [
    "shapley$explain(x.interest = X[2,])\n",
    "shapley$plot()"
   ]
  },
  {
   "cell_type": "markdown",
   "metadata": {},
   "source": [
    "The results in data.frame form can be extracted like this:\n"
   ]
  },
  {
   "cell_type": "code",
   "execution_count": null,
   "metadata": {
    "collapsed": true
   },
   "outputs": [],
   "source": [
    "\n",
    "results = shapley$results\n",
    "head(results)\n"
   ]
  }
 ],
 "metadata": {
  "kernelspec": {
   "display_name": "R",
   "language": "R",
   "name": "ir"
  },
  "language_info": {
   "codemirror_mode": "r",
   "file_extension": ".r",
   "mimetype": "text/x-r-source",
   "name": "R",
   "pygments_lexer": "r",
   "version": "3.6.1"
  }
 },
 "nbformat": 4,
 "nbformat_minor": 1
}
